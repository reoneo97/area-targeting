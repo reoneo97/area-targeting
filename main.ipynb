{
 "cells": [
  {
   "cell_type": "code",
   "execution_count": 3,
   "metadata": {},
   "outputs": [],
   "source": [
    "import numpy as np\n",
    "import pandas as pd\n",
    "import math"
   ]
  },
  {
   "cell_type": "code",
   "execution_count": 4,
   "metadata": {},
   "outputs": [
    {
     "data": {
      "text/html": [
       "<div>\n",
       "<style scoped>\n",
       "    .dataframe tbody tr th:only-of-type {\n",
       "        vertical-align: middle;\n",
       "    }\n",
       "\n",
       "    .dataframe tbody tr th {\n",
       "        vertical-align: top;\n",
       "    }\n",
       "\n",
       "    .dataframe thead th {\n",
       "        text-align: right;\n",
       "    }\n",
       "</style>\n",
       "<table border=\"1\" class=\"dataframe\">\n",
       "  <thead>\n",
       "    <tr style=\"text-align: right;\">\n",
       "      <th></th>\n",
       "      <th>Stream Name</th>\n",
       "      <th>Supply</th>\n",
       "      <th>Target</th>\n",
       "      <th>Cp</th>\n",
       "      <th>U</th>\n",
       "    </tr>\n",
       "  </thead>\n",
       "  <tbody>\n",
       "    <tr>\n",
       "      <th>0</th>\n",
       "      <td>Heated Methanol</td>\n",
       "      <td>43.07</td>\n",
       "      <td>250.0</td>\n",
       "      <td>24.807</td>\n",
       "      <td>1</td>\n",
       "    </tr>\n",
       "    <tr>\n",
       "      <th>1</th>\n",
       "      <td>Cooled Product</td>\n",
       "      <td>363.40</td>\n",
       "      <td>89.0</td>\n",
       "      <td>14.101</td>\n",
       "      <td>2</td>\n",
       "    </tr>\n",
       "    <tr>\n",
       "      <th>2</th>\n",
       "      <td>Feed To Column-2</td>\n",
       "      <td>156.80</td>\n",
       "      <td>139.0</td>\n",
       "      <td>10.326</td>\n",
       "      <td>1</td>\n",
       "    </tr>\n",
       "    <tr>\n",
       "      <th>3</th>\n",
       "      <td>Cooled Water Stream</td>\n",
       "      <td>165.30</td>\n",
       "      <td>30.0</td>\n",
       "      <td>3.420</td>\n",
       "      <td>1</td>\n",
       "    </tr>\n",
       "    <tr>\n",
       "      <th>4</th>\n",
       "      <td>DME Final Prouct</td>\n",
       "      <td>45.90</td>\n",
       "      <td>30.0</td>\n",
       "      <td>4.525</td>\n",
       "      <td>2</td>\n",
       "    </tr>\n",
       "    <tr>\n",
       "      <th>5</th>\n",
       "      <td>T-100 Condenser</td>\n",
       "      <td>45.90</td>\n",
       "      <td>45.8</td>\n",
       "      <td>20008.333</td>\n",
       "      <td>1</td>\n",
       "    </tr>\n",
       "    <tr>\n",
       "      <th>6</th>\n",
       "      <td>T-100 Reboiler</td>\n",
       "      <td>165.70</td>\n",
       "      <td>165.8</td>\n",
       "      <td>15538.889</td>\n",
       "      <td>1</td>\n",
       "    </tr>\n",
       "    <tr>\n",
       "      <th>7</th>\n",
       "      <td>T-101 Reboiler</td>\n",
       "      <td>165.30</td>\n",
       "      <td>165.4</td>\n",
       "      <td>23491.667</td>\n",
       "      <td>1</td>\n",
       "    </tr>\n",
       "    <tr>\n",
       "      <th>8</th>\n",
       "      <td>T-101 Condenser</td>\n",
       "      <td>126.00</td>\n",
       "      <td>125.9</td>\n",
       "      <td>22375.000</td>\n",
       "      <td>1</td>\n",
       "    </tr>\n",
       "    <tr>\n",
       "      <th>9</th>\n",
       "      <td>HU</td>\n",
       "      <td>184.00</td>\n",
       "      <td>183.9</td>\n",
       "      <td>35612.900</td>\n",
       "      <td>1</td>\n",
       "    </tr>\n",
       "    <tr>\n",
       "      <th>10</th>\n",
       "      <td>CU</td>\n",
       "      <td>5.00</td>\n",
       "      <td>15.0</td>\n",
       "      <td>335.121</td>\n",
       "      <td>1</td>\n",
       "    </tr>\n",
       "  </tbody>\n",
       "</table>\n",
       "</div>"
      ],
      "text/plain": [
       "            Stream Name  Supply  Target         Cp  U\n",
       "0       Heated Methanol   43.07   250.0     24.807  1\n",
       "1        Cooled Product  363.40    89.0     14.101  2\n",
       "2      Feed To Column-2  156.80   139.0     10.326  1\n",
       "3   Cooled Water Stream  165.30    30.0      3.420  1\n",
       "4      DME Final Prouct   45.90    30.0      4.525  2\n",
       "5       T-100 Condenser   45.90    45.8  20008.333  1\n",
       "6        T-100 Reboiler  165.70   165.8  15538.889  1\n",
       "7        T-101 Reboiler  165.30   165.4  23491.667  1\n",
       "8       T-101 Condenser  126.00   125.9  22375.000  1\n",
       "9                    HU  184.00   183.9  35612.900  1\n",
       "10                   CU    5.00    15.0    335.121  1"
      ]
     },
     "execution_count": 4,
     "metadata": {},
     "output_type": "execute_result"
    }
   ],
   "source": [
    "df = pd.read_csv(\"streams.csv\")\n",
    "df"
   ]
  },
  {
   "cell_type": "code",
   "execution_count": 5,
   "metadata": {},
   "outputs": [],
   "source": [
    "def is_hot_cold(row):\n",
    "    if row[\"Supply\"] > row[\"Target\"]:\n",
    "        return \"Hot\"\n",
    "    else:\n",
    "        return \"Cold\"\n",
    "def get_enthalpy(row):\n",
    "    return (row[\"Target\"] - row[\"Supply\"]) *row[\"Cp\"]"
   ]
  },
  {
   "cell_type": "code",
   "execution_count": 6,
   "metadata": {},
   "outputs": [],
   "source": [
    "df[\"Stream Type\"] = df.apply(is_hot_cold,axis=1)\n",
    "df[\"Delta H\"] = df.apply(get_enthalpy,axis=1)\n",
    "df[\"Abs Delta H\"] = df[\"Delta H\"].apply(abs)\n",
    "assert abs(df[\"Delta H\"].sum()) < 1, \"Process is unbalanced, check that net enthalpy is close to 0\""
   ]
  },
  {
   "cell_type": "code",
   "execution_count": 7,
   "metadata": {},
   "outputs": [
    {
     "data": {
      "text/html": [
       "<div>\n",
       "<style scoped>\n",
       "    .dataframe tbody tr th:only-of-type {\n",
       "        vertical-align: middle;\n",
       "    }\n",
       "\n",
       "    .dataframe tbody tr th {\n",
       "        vertical-align: top;\n",
       "    }\n",
       "\n",
       "    .dataframe thead th {\n",
       "        text-align: right;\n",
       "    }\n",
       "</style>\n",
       "<table border=\"1\" class=\"dataframe\">\n",
       "  <thead>\n",
       "    <tr style=\"text-align: right;\">\n",
       "      <th></th>\n",
       "      <th>Stream Name</th>\n",
       "      <th>Supply</th>\n",
       "      <th>Target</th>\n",
       "      <th>Cp</th>\n",
       "      <th>U</th>\n",
       "      <th>Stream Type</th>\n",
       "      <th>Delta H</th>\n",
       "      <th>Abs Delta H</th>\n",
       "    </tr>\n",
       "  </thead>\n",
       "  <tbody>\n",
       "    <tr>\n",
       "      <th>0</th>\n",
       "      <td>Heated Methanol</td>\n",
       "      <td>43.07</td>\n",
       "      <td>250.0</td>\n",
       "      <td>24.807</td>\n",
       "      <td>1</td>\n",
       "      <td>Cold</td>\n",
       "      <td>5133.31251</td>\n",
       "      <td>5133.31251</td>\n",
       "    </tr>\n",
       "    <tr>\n",
       "      <th>1</th>\n",
       "      <td>Cooled Product</td>\n",
       "      <td>363.40</td>\n",
       "      <td>89.0</td>\n",
       "      <td>14.101</td>\n",
       "      <td>2</td>\n",
       "      <td>Hot</td>\n",
       "      <td>-3869.31440</td>\n",
       "      <td>3869.31440</td>\n",
       "    </tr>\n",
       "    <tr>\n",
       "      <th>2</th>\n",
       "      <td>Feed To Column-2</td>\n",
       "      <td>156.80</td>\n",
       "      <td>139.0</td>\n",
       "      <td>10.326</td>\n",
       "      <td>1</td>\n",
       "      <td>Hot</td>\n",
       "      <td>-183.80280</td>\n",
       "      <td>183.80280</td>\n",
       "    </tr>\n",
       "    <tr>\n",
       "      <th>3</th>\n",
       "      <td>Cooled Water Stream</td>\n",
       "      <td>165.30</td>\n",
       "      <td>30.0</td>\n",
       "      <td>3.420</td>\n",
       "      <td>1</td>\n",
       "      <td>Hot</td>\n",
       "      <td>-462.72600</td>\n",
       "      <td>462.72600</td>\n",
       "    </tr>\n",
       "    <tr>\n",
       "      <th>4</th>\n",
       "      <td>DME Final Prouct</td>\n",
       "      <td>45.90</td>\n",
       "      <td>30.0</td>\n",
       "      <td>4.525</td>\n",
       "      <td>2</td>\n",
       "      <td>Hot</td>\n",
       "      <td>-71.94750</td>\n",
       "      <td>71.94750</td>\n",
       "    </tr>\n",
       "    <tr>\n",
       "      <th>5</th>\n",
       "      <td>T-100 Condenser</td>\n",
       "      <td>45.90</td>\n",
       "      <td>45.8</td>\n",
       "      <td>20008.333</td>\n",
       "      <td>1</td>\n",
       "      <td>Hot</td>\n",
       "      <td>-2000.83330</td>\n",
       "      <td>2000.83330</td>\n",
       "    </tr>\n",
       "    <tr>\n",
       "      <th>6</th>\n",
       "      <td>T-100 Reboiler</td>\n",
       "      <td>165.70</td>\n",
       "      <td>165.8</td>\n",
       "      <td>15538.889</td>\n",
       "      <td>1</td>\n",
       "      <td>Cold</td>\n",
       "      <td>1553.88890</td>\n",
       "      <td>1553.88890</td>\n",
       "    </tr>\n",
       "    <tr>\n",
       "      <th>7</th>\n",
       "      <td>T-101 Reboiler</td>\n",
       "      <td>165.30</td>\n",
       "      <td>165.4</td>\n",
       "      <td>23491.667</td>\n",
       "      <td>1</td>\n",
       "      <td>Cold</td>\n",
       "      <td>2349.16670</td>\n",
       "      <td>2349.16670</td>\n",
       "    </tr>\n",
       "    <tr>\n",
       "      <th>8</th>\n",
       "      <td>T-101 Condenser</td>\n",
       "      <td>126.00</td>\n",
       "      <td>125.9</td>\n",
       "      <td>22375.000</td>\n",
       "      <td>1</td>\n",
       "      <td>Hot</td>\n",
       "      <td>-2237.50000</td>\n",
       "      <td>2237.50000</td>\n",
       "    </tr>\n",
       "    <tr>\n",
       "      <th>9</th>\n",
       "      <td>HU</td>\n",
       "      <td>184.00</td>\n",
       "      <td>183.9</td>\n",
       "      <td>35612.900</td>\n",
       "      <td>1</td>\n",
       "      <td>Hot</td>\n",
       "      <td>-3561.29000</td>\n",
       "      <td>3561.29000</td>\n",
       "    </tr>\n",
       "    <tr>\n",
       "      <th>10</th>\n",
       "      <td>CU</td>\n",
       "      <td>5.00</td>\n",
       "      <td>15.0</td>\n",
       "      <td>335.121</td>\n",
       "      <td>1</td>\n",
       "      <td>Cold</td>\n",
       "      <td>3351.21000</td>\n",
       "      <td>3351.21000</td>\n",
       "    </tr>\n",
       "  </tbody>\n",
       "</table>\n",
       "</div>"
      ],
      "text/plain": [
       "            Stream Name  Supply  Target         Cp  U Stream Type     Delta H  \\\n",
       "0       Heated Methanol   43.07   250.0     24.807  1        Cold  5133.31251   \n",
       "1        Cooled Product  363.40    89.0     14.101  2         Hot -3869.31440   \n",
       "2      Feed To Column-2  156.80   139.0     10.326  1         Hot  -183.80280   \n",
       "3   Cooled Water Stream  165.30    30.0      3.420  1         Hot  -462.72600   \n",
       "4      DME Final Prouct   45.90    30.0      4.525  2         Hot   -71.94750   \n",
       "5       T-100 Condenser   45.90    45.8  20008.333  1         Hot -2000.83330   \n",
       "6        T-100 Reboiler  165.70   165.8  15538.889  1        Cold  1553.88890   \n",
       "7        T-101 Reboiler  165.30   165.4  23491.667  1        Cold  2349.16670   \n",
       "8       T-101 Condenser  126.00   125.9  22375.000  1         Hot -2237.50000   \n",
       "9                    HU  184.00   183.9  35612.900  1         Hot -3561.29000   \n",
       "10                   CU    5.00    15.0    335.121  1        Cold  3351.21000   \n",
       "\n",
       "    Abs Delta H  \n",
       "0    5133.31251  \n",
       "1    3869.31440  \n",
       "2     183.80280  \n",
       "3     462.72600  \n",
       "4      71.94750  \n",
       "5    2000.83330  \n",
       "6    1553.88890  \n",
       "7    2349.16670  \n",
       "8    2237.50000  \n",
       "9    3561.29000  \n",
       "10   3351.21000  "
      ]
     },
     "execution_count": 7,
     "metadata": {},
     "output_type": "execute_result"
    }
   ],
   "source": [
    "df"
   ]
  },
  {
   "cell_type": "code",
   "execution_count": 8,
   "metadata": {},
   "outputs": [],
   "source": [
    "cold_df = df[df[\"Stream Type\"] == \"Cold\"].copy()\n",
    "hot_df = df[df[\"Stream Type\"] == \"Hot\"].copy()\n",
    "\n",
    "\n",
    "cold_df[\"Low\"],cold_df[\"High\"] = cold_df[\"Supply\"],cold_df[\"Target\"]\n",
    "hot_df[\"Low\"],hot_df[\"High\"] = hot_df[\"Target\"],hot_df[\"Supply\"]\n",
    "\n",
    "cold_df = cold_df.sort_values(by=[\"Low\",\"High\"])\n",
    "hot_df = hot_df.sort_values(by=[\"Low\",\"High\"])\n",
    "\n"
   ]
  },
  {
   "cell_type": "code",
   "execution_count": 9,
   "metadata": {},
   "outputs": [
    {
     "data": {
      "text/html": [
       "<div>\n",
       "<style scoped>\n",
       "    .dataframe tbody tr th:only-of-type {\n",
       "        vertical-align: middle;\n",
       "    }\n",
       "\n",
       "    .dataframe tbody tr th {\n",
       "        vertical-align: top;\n",
       "    }\n",
       "\n",
       "    .dataframe thead th {\n",
       "        text-align: right;\n",
       "    }\n",
       "</style>\n",
       "<table border=\"1\" class=\"dataframe\">\n",
       "  <thead>\n",
       "    <tr style=\"text-align: right;\">\n",
       "      <th></th>\n",
       "      <th>Stream Name</th>\n",
       "      <th>Supply</th>\n",
       "      <th>Target</th>\n",
       "      <th>Cp</th>\n",
       "      <th>U</th>\n",
       "      <th>Stream Type</th>\n",
       "      <th>Delta H</th>\n",
       "      <th>Abs Delta H</th>\n",
       "      <th>Low</th>\n",
       "      <th>High</th>\n",
       "    </tr>\n",
       "  </thead>\n",
       "  <tbody>\n",
       "    <tr>\n",
       "      <th>10</th>\n",
       "      <td>CU</td>\n",
       "      <td>5.00</td>\n",
       "      <td>15.0</td>\n",
       "      <td>335.121</td>\n",
       "      <td>1</td>\n",
       "      <td>Cold</td>\n",
       "      <td>3351.21000</td>\n",
       "      <td>3351.21000</td>\n",
       "      <td>5.00</td>\n",
       "      <td>15.0</td>\n",
       "    </tr>\n",
       "    <tr>\n",
       "      <th>0</th>\n",
       "      <td>Heated Methanol</td>\n",
       "      <td>43.07</td>\n",
       "      <td>250.0</td>\n",
       "      <td>24.807</td>\n",
       "      <td>1</td>\n",
       "      <td>Cold</td>\n",
       "      <td>5133.31251</td>\n",
       "      <td>5133.31251</td>\n",
       "      <td>43.07</td>\n",
       "      <td>250.0</td>\n",
       "    </tr>\n",
       "    <tr>\n",
       "      <th>7</th>\n",
       "      <td>T-101 Reboiler</td>\n",
       "      <td>165.30</td>\n",
       "      <td>165.4</td>\n",
       "      <td>23491.667</td>\n",
       "      <td>1</td>\n",
       "      <td>Cold</td>\n",
       "      <td>2349.16670</td>\n",
       "      <td>2349.16670</td>\n",
       "      <td>165.30</td>\n",
       "      <td>165.4</td>\n",
       "    </tr>\n",
       "    <tr>\n",
       "      <th>6</th>\n",
       "      <td>T-100 Reboiler</td>\n",
       "      <td>165.70</td>\n",
       "      <td>165.8</td>\n",
       "      <td>15538.889</td>\n",
       "      <td>1</td>\n",
       "      <td>Cold</td>\n",
       "      <td>1553.88890</td>\n",
       "      <td>1553.88890</td>\n",
       "      <td>165.70</td>\n",
       "      <td>165.8</td>\n",
       "    </tr>\n",
       "  </tbody>\n",
       "</table>\n",
       "</div>"
      ],
      "text/plain": [
       "        Stream Name  Supply  Target         Cp  U Stream Type     Delta H  \\\n",
       "10               CU    5.00    15.0    335.121  1        Cold  3351.21000   \n",
       "0   Heated Methanol   43.07   250.0     24.807  1        Cold  5133.31251   \n",
       "7    T-101 Reboiler  165.30   165.4  23491.667  1        Cold  2349.16670   \n",
       "6    T-100 Reboiler  165.70   165.8  15538.889  1        Cold  1553.88890   \n",
       "\n",
       "    Abs Delta H     Low   High  \n",
       "10   3351.21000    5.00   15.0  \n",
       "0    5133.31251   43.07  250.0  \n",
       "7    2349.16670  165.30  165.4  \n",
       "6    1553.88890  165.70  165.8  "
      ]
     },
     "execution_count": 9,
     "metadata": {},
     "output_type": "execute_result"
    }
   ],
   "source": [
    "cold_df"
   ]
  },
  {
   "cell_type": "code",
   "execution_count": 39,
   "metadata": {},
   "outputs": [],
   "source": [
    "def inbetween(row,value):\n",
    "    low = row[\"Low\"]\n",
    "    high = row[\"High\"]\n",
    "    c_p = row[\"Cp\"]\n",
    "    if value >= low and value < high:\n",
    "        return c_p\n",
    "    else:\n",
    "        return 0\n",
    "def get_regions(df):\n",
    "    streams = df[[\"Low\",\"High\",\"Cp\"]].copy()\n",
    "    partitions = df[\"Low\"].tolist()\n",
    "    partitions.extend(df[\"High\"].tolist())\n",
    "\n",
    "    partitions = sorted(list(set(partitions)))\n",
    "    regions = []\n",
    "    for i,pt in enumerate(partitions[:-1]):\n",
    "        tot_cp = streams.apply(inbetween, value=pt,axis=1).sum()\n",
    "        regions.append([pt,partitions[i+1],tot_cp])\n",
    "    return regions "
   ]
  },
  {
   "cell_type": "code",
   "execution_count": 41,
   "metadata": {},
   "outputs": [
    {
     "data": {
      "text/plain": [
       "[[30.0, 45.8, 7.945],\n",
       " [45.8, 45.9, 20016.278],\n",
       " [45.9, 89.0, 3.42],\n",
       " [89.0, 125.9, 17.521],\n",
       " [125.9, 126.0, 22392.521],\n",
       " [126.0, 139.0, 17.521],\n",
       " [139.0, 156.8, 27.847],\n",
       " [156.8, 165.3, 17.521],\n",
       " [165.3, 183.9, 14.101],\n",
       " [183.9, 184.0, 35627.001000000004],\n",
       " [184.0, 363.4, 14.101]]"
      ]
     },
     "execution_count": 41,
     "metadata": {},
     "output_type": "execute_result"
    }
   ],
   "source": [
    "get_regions(hot_df)"
   ]
  },
  {
   "cell_type": "code",
   "execution_count": 36,
   "metadata": {},
   "outputs": [],
   "source": [
    "cold_regions = []\n",
    "cold_df = cold_df.sort_values(by=[\"Low\",\"High\"])\n",
    "\n",
    "\n",
    "\n",
    "cold_streams = cold_df[[\"Low\",\"High\",\"Cp\"]].copy()\n",
    "partitions = cold_df[\"Low\"].tolist()\n",
    "partitions.extend(cold_df[\"High\"].tolist())\n",
    "partitions = sorted(list(set(partitions)))\n",
    "\n",
    "for i,pt in enumerate(partitions[:-1]):\n",
    "    tot_cp = cold_streams.apply(inbetween, value=pt,axis=1).sum()\n",
    "    cold_regions.append([pt,partitions[i+1],tot_cp])\n"
   ]
  },
  {
   "cell_type": "code",
   "execution_count": 37,
   "metadata": {},
   "outputs": [
    {
     "data": {
      "text/plain": [
       "[[5.0, 15.0, 335.121],\n",
       " [15.0, 43.07, 0],\n",
       " [43.07, 165.3, 24.807],\n",
       " [165.3, 165.4, 23516.474000000002],\n",
       " [165.4, 165.7, 24.807],\n",
       " [165.7, 165.8, 15563.696],\n",
       " [165.8, 250.0, 24.807]]"
      ]
     },
     "execution_count": 37,
     "metadata": {},
     "output_type": "execute_result"
    }
   ],
   "source": [
    "cold_regions"
   ]
  },
  {
   "cell_type": "code",
   "execution_count": 38,
   "metadata": {},
   "outputs": [],
   "source": [
    "\n"
   ]
  },
  {
   "cell_type": "code",
   "execution_count": 18,
   "metadata": {},
   "outputs": [],
   "source": [
    "# Converting to Regions of Heat \n",
    "\n",
    "regions = []\n",
    "delta_T = 10"
   ]
  },
  {
   "cell_type": "markdown",
   "metadata": {},
   "source": []
  },
  {
   "cell_type": "code",
   "execution_count": 42,
   "metadata": {},
   "outputs": [
    {
     "data": {
      "text/plain": [
       "5.0"
      ]
     },
     "execution_count": 42,
     "metadata": {},
     "output_type": "execute_result"
    }
   ],
   "source": [
    "curr_temp"
   ]
  },
  {
   "cell_type": "code",
   "execution_count": 45,
   "metadata": {},
   "outputs": [
    {
     "data": {
      "text/plain": [
       "3"
      ]
     },
     "execution_count": 45,
     "metadata": {},
     "output_type": "execute_result"
    }
   ],
   "source": [
    "i_low"
   ]
  },
  {
   "cell_type": "code",
   "execution_count": 46,
   "metadata": {},
   "outputs": [
    {
     "data": {
      "text/plain": [
       "[[5.0, 15.0, 335.121], [43.07, 165.3, 24.807], [165.3, 165.7, 23491.667]]"
      ]
     },
     "execution_count": 46,
     "metadata": {},
     "output_type": "execute_result"
    }
   ],
   "source": [
    "cold_regions"
   ]
  },
  {
   "cell_type": "code",
   "execution_count": null,
   "metadata": {},
   "outputs": [],
   "source": []
  }
 ],
 "metadata": {
  "interpreter": {
   "hash": "ae6cb736db322a7e5b5dd7daf0bf0f9a9670115917e8b0bb381fef1697396fac"
  },
  "kernelspec": {
   "display_name": "Python 3.9.5 64-bit ('pytorch39': conda)",
   "name": "python3"
  },
  "language_info": {
   "codemirror_mode": {
    "name": "ipython",
    "version": 3
   },
   "file_extension": ".py",
   "mimetype": "text/x-python",
   "name": "python",
   "nbconvert_exporter": "python",
   "pygments_lexer": "ipython3",
   "version": "3.9.5"
  },
  "orig_nbformat": 4
 },
 "nbformat": 4,
 "nbformat_minor": 2
}
